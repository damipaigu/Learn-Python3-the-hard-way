{
 "cells": [
  {
   "cell_type": "markdown",
   "metadata": {},
   "source": [
    "## Python Built-in functions playground - 75 in total"
   ]
  },
  {
   "cell_type": "code",
   "execution_count": 1,
   "metadata": {
    "scrolled": false
   },
   "outputs": [
    {
     "name": "stdout",
     "output_type": "stream",
     "text": [
      "My list is: \n",
      " ['o', 1, 2, 'Text', True, 'abc'], \n",
      " the result of all() is: True\n",
      "***************\n",
      "My list is updated as: \n",
      " ['o', 1, 2, 'Text', True, 'abc', False], \n",
      " the result of all() is now: False\n"
     ]
    }
   ],
   "source": [
    "# all(iterable) return True if all elements of iterable are True\n",
    "\n",
    "my_list = ['o', 1, 2, 'Text', True, 'abc'] # list elements can be different types\n",
    "print(f\"My list is: \\n {my_list}, \\n the result of all() is: {all(my_list)}\")\n",
    "print('*' * 15)\n",
    "my_list.append(False)\n",
    "print(f\"My list is updated as: \\n {my_list}, \\n the result of all() is now: {all(my_list)}\")"
   ]
  },
  {
   "cell_type": "code",
   "execution_count": 2,
   "metadata": {},
   "outputs": [
    {
     "name": "stdout",
     "output_type": "stream",
     "text": [
      "True\n"
     ]
    }
   ],
   "source": [
    "# any() similar to all()\n",
    "\n",
    "print(any(my_list))"
   ]
  },
  {
   "cell_type": "code",
   "execution_count": 3,
   "metadata": {},
   "outputs": [
    {
     "name": "stdout",
     "output_type": "stream",
     "text": [
      "True\n",
      "True\n",
      "False\n"
     ]
    }
   ],
   "source": [
    "# ascii() returns the ascii string of a string. 我理解为ascii的参数是想要输出的内容，ascii的结果为对应的输入。相当于给定输出求输入？？\n",
    "\n",
    "print(ascii('\\\\') == \"'\\\\\\\\'\")\n",
    "print(ascii('\\n') == \"'\\\\n'\")\n",
    "print(ascii('0b10') == \"'2'\")"
   ]
  },
  {
   "cell_type": "code",
   "execution_count": 4,
   "metadata": {},
   "outputs": [
    {
     "data": {
      "text/plain": [
       "'0b10'"
      ]
     },
     "execution_count": 4,
     "metadata": {},
     "output_type": "execute_result"
    }
   ],
   "source": [
    "# bin() Convert an integer number to a binary string prefixed with “0b”.\n",
    "\n",
    "bin(2)"
   ]
  },
  {
   "cell_type": "code",
   "execution_count": 5,
   "metadata": {},
   "outputs": [
    {
     "data": {
      "text/plain": [
       "('0b1110', '1110')"
      ]
     },
     "execution_count": 5,
     "metadata": {},
     "output_type": "execute_result"
    }
   ],
   "source": [
    "format(14, '#b'), format(14, 'b') # 不太懂 要学习一下format函数"
   ]
  },
  {
   "cell_type": "code",
   "execution_count": 6,
   "metadata": {},
   "outputs": [],
   "source": [
    "# class bool([x]) return a Boolean value, i.e. one of True or False. class部分要学习一下，回头再看这个。\n",
    "\n",
    "#  x is now a positional-only parameter??? 这个的含义也不懂。"
   ]
  },
  {
   "cell_type": "code",
   "execution_count": 7,
   "metadata": {},
   "outputs": [],
   "source": [
    "# breakpoint(*args, **kws)  debug function.暂时不懂。"
   ]
  },
  {
   "cell_type": "code",
   "execution_count": 8,
   "metadata": {},
   "outputs": [],
   "source": [
    "# class bytearray([source[, encoding[, errors]]]) "
   ]
  },
  {
   "cell_type": "code",
   "execution_count": null,
   "metadata": {},
   "outputs": [],
   "source": []
  },
  {
   "cell_type": "markdown",
   "metadata": {},
   "source": [
    "## Sequence Types -- **list**, **tuple**, **range**"
   ]
  },
  {
   "cell_type": "markdown",
   "metadata": {},
   "source": [
    "### Common Sequence Operations"
   ]
  },
  {
   "cell_type": "markdown",
   "metadata": {},
   "source": [
    "The operations in the following table are supported by most sequence typs, both mutable and immutable.\n",
    "\n",
    "In this table **s** and **t** are sequences of the same type, **n**, **i**, **j** and **k** are integers and **x** is an arbitrary object that meets any type and value restrictions imposed by **s**.\n",
    "\n",
    "The **in** and **not in** have the same priorities as the comparison operations.\n",
    "The **+** (concatenation) and **\\*** (repetition) have the same priority as the corresponding numeric operations.\n",
    "\n",
    "Operation | Result | Notes\n",
    "---------- | ---------- | ----------\n",
    "x in s | **True** if an item of s is equal to x, else **False** | 1\n",
    "x not in s | **False** if an item of s is euqal to x, else **False** | 1\n",
    "s + t | the concatenation of s and t | 6 7\n",
    "s \\* n or n \\* s | equivalent to adding s to itself n times | 2 7\n",
    "s[i] | *i*th item of s, origin 0 | 3\n",
    "s[i:j] | slice of s from i(inc) to j(exc) | 3 4\n",
    "s[i:j:k] | slice of s from i to j with step k | 3 5\n",
    "len(s) | length of s | \n",
    "min(s) | smallest item of s |\n",
    "max(s) | largest item of s | \n",
    "s.index(x[, i[, j]]) | index of the first occurrence of x in s (at or after index i and before index j) | 8 |\n",
    "s.count(x) | total number of occurrences of x in s |\n",
    "\n",
    "1. While the **in** and **not in** operations are used only for simple containment testing in the general case, some specialised sequences (such as **str**, **bytes**, **bytearray**) also use them for subsequence testing:"
   ]
  },
  {
   "cell_type": "code",
   "execution_count": 9,
   "metadata": {},
   "outputs": [
    {
     "data": {
      "text/plain": [
       "True"
      ]
     },
     "execution_count": 9,
     "metadata": {},
     "output_type": "execute_result"
    }
   ],
   "source": [
    "\"gg\" in \"eggs\""
   ]
  },
  {
   "cell_type": "markdown",
   "metadata": {},
   "source": [
    "2. Values of *n* less than **0** are treated as **0** (which yields an empty sequence of the same type as s). Items in the sequence **s** are not copied; they are referenced multiple times:    ~~(这个例子不是太理解，后边要继续看append() 回头看是不是可以理解这里了。)~~"
   ]
  },
  {
   "cell_type": "code",
   "execution_count": 10,
   "metadata": {},
   "outputs": [
    {
     "data": {
      "text/plain": [
       "[]"
      ]
     },
     "execution_count": 10,
     "metadata": {},
     "output_type": "execute_result"
    }
   ],
   "source": [
    "'''Fist of all,we are talking about Sqeuence types here, so the following examle isn't part of this topic, it is here only for claritying \n",
    "it is not the same case when multiply non-list.'''\n",
    "# have to know THIS is wrong to multiply a one-dimentional list:\n",
    "lists4 = [] * 5\n",
    "lists4"
   ]
  },
  {
   "cell_type": "code",
   "execution_count": 11,
   "metadata": {},
   "outputs": [
    {
     "data": {
      "text/plain": [
       "[2, 2, 2, 2, 2]"
      ]
     },
     "execution_count": 11,
     "metadata": {},
     "output_type": "execute_result"
    }
   ],
   "source": [
    "# You have to put something in the [] in order to multiply a one-dimentional list:\n",
    "\n",
    "list5 = [2] * 5\n",
    "list5"
   ]
  },
  {
   "cell_type": "code",
   "execution_count": 12,
   "metadata": {},
   "outputs": [
    {
     "data": {
      "text/plain": [
       "[1, 2, 2, 2, 2]"
      ]
     },
     "execution_count": 12,
     "metadata": {},
     "output_type": "execute_result"
    }
   ],
   "source": [
    "# Now try to change some item: \n",
    "# (this example is different from the below, integers are multiplied here, not lists. Thus these items are independent from each other.\n",
    "# 不确定这样解释对不对，再看看吧)\n",
    "list5[0] = 1\n",
    "list5"
   ]
  },
  {
   "cell_type": "markdown",
   "metadata": {},
   "source": [
    "Now we go back to 2."
   ]
  },
  {
   "cell_type": "code",
   "execution_count": 13,
   "metadata": {},
   "outputs": [
    {
     "data": {
      "text/plain": [
       "[[None, 2], [None, 2], [None, 2], [None, 2], [None, 2]]"
      ]
     },
     "execution_count": 13,
     "metadata": {},
     "output_type": "execute_result"
    }
   ],
   "source": [
    "lists = [[None]] * 5\n",
    "lists\n",
    "lists[0].append(2)\n",
    "lists"
   ]
  },
  {
   "cell_type": "code",
   "execution_count": 14,
   "metadata": {},
   "outputs": [
    {
     "data": {
      "text/plain": [
       "[[None, 2, 3], [None, 2, 3], [None, 2, 3], [None, 2, 3], [None, 2, 3]]"
      ]
     },
     "execution_count": 14,
     "metadata": {},
     "output_type": "execute_result"
    }
   ],
   "source": [
    "lists[1].append(3)\n",
    "lists"
   ]
  },
  {
   "cell_type": "markdown",
   "metadata": {},
   "source": [
    "What happened is that [[]] is a one-element list containing an empty list, so all three elements of [[]] \\* 3 are references to this single empty list.Modifying any of the elements of lists modifies this single list. 就是说用 \\* 新建的list 指向同一个引用，更改一个的内容，其他的一同改变。[check this for further explaination](https://docs.python.org/3/faq/programming.html#faq-multidimensional-list)\n",
    "\n",
    "Use the following method to create a list of different lists this way:"
   ]
  },
  {
   "cell_type": "code",
   "execution_count": 15,
   "metadata": {},
   "outputs": [
    {
     "data": {
      "text/plain": [
       "[[2], [3], [5]]"
      ]
     },
     "execution_count": 15,
     "metadata": {},
     "output_type": "execute_result"
    }
   ],
   "source": [
    "lists2 = [[] for i in range(3)]\n",
    "lists2[0].append(2)\n",
    "lists2[1].append(3)\n",
    "lists2[2].append(5)\n",
    "lists2"
   ]
  },
  {
   "cell_type": "code",
   "execution_count": 16,
   "metadata": {},
   "outputs": [
    {
     "data": {
      "text/plain": [
       "[[None, None, 2], [None, None, 3], [None, None, 5]]"
      ]
     },
     "execution_count": 16,
     "metadata": {},
     "output_type": "execute_result"
    }
   ],
   "source": [
    "lists3 = [[None] * 2 for i in range(3)]\n",
    "lists3[0].append(2)\n",
    "lists3[1].append(3)\n",
    "lists3[2].append(5)\n",
    "lists3"
   ]
  },
  {
   "cell_type": "code",
   "execution_count": 17,
   "metadata": {},
   "outputs": [
    {
     "data": {
      "text/plain": [
       "[[1, None], [None, None], [None, None]]"
      ]
     },
     "execution_count": 17,
     "metadata": {},
     "output_type": "execute_result"
    }
   ],
   "source": [
    "# items are independent from each other, correct way to initialize a two-dimentional list: (because [None] * w multiplies a single value, not a list.)\n",
    "w, h = 2, 3\n",
    "A = [[None] * w for i in range(h)]\n",
    "A[0][0] = 1\n",
    "A"
   ]
  },
  {
   "cell_type": "markdown",
   "metadata": {},
   "source": [
    "3. If *i* or *j* is negative, the index is relative to the end of sequence s: **len(s) + i** or **len(s) + j** is substituted. But note that -0 is still 0."
   ]
  },
  {
   "cell_type": "markdown",
   "metadata": {},
   "source": [
    "4. **i** is inclusive, **j** is exclusive. If **i** or **j** is greater than **len(s)**, use **len(s)**. If **i** is omitted or **None**, use **0**. If **j** is omitted or **None**, use **len(s)**. If **i** is greater than or equal to **j**, the slice is empty."
   ]
  },
  {
   "cell_type": "markdown",
   "metadata": {},
   "source": [
    "5. s[i:j:k], the indices are **i**, **i+k**, **i+2k**, and so on, stopping when **j** is reached (but exclusive).后边还有解释，不写了，去网上看。。。"
   ]
  },
  {
   "cell_type": "markdown",
   "metadata": {},
   "source": [
    "6. Concatenating immutable swquences always results in a new object, which means runtime cost is much higher!!! 4 ways to save the runtime. 看网站去。"
   ]
  },
  {
   "cell_type": "markdown",
   "metadata": {},
   "source": [
    "7. "
   ]
  },
  {
   "cell_type": "markdown",
   "metadata": {},
   "source": [
    "8."
   ]
  },
  {
   "cell_type": "markdown",
   "metadata": {},
   "source": [
    "## String"
   ]
  },
  {
   "cell_type": "markdown",
   "metadata": {},
   "source": [
    "### string basic"
   ]
  },
  {
   "cell_type": "markdown",
   "metadata": {},
   "source": [
    "If you don’t want characters prefaced by \\ to be interpreted as special characters, you can use raw strings by adding an r before the first quote:"
   ]
  },
  {
   "cell_type": "code",
   "execution_count": 1,
   "metadata": {},
   "outputs": [
    {
     "name": "stdout",
     "output_type": "stream",
     "text": [
      "C:\\some\\name\n"
     ]
    }
   ],
   "source": [
    "print(r'C:\\some\\name')  # note the r before the quote"
   ]
  },
  {
   "cell_type": "markdown",
   "metadata": {},
   "source": [
    "Two or more string literals (i.e. the ones enclosed between quotes) next to each other are automatically concatenated."
   ]
  },
  {
   "cell_type": "code",
   "execution_count": 2,
   "metadata": {},
   "outputs": [
    {
     "data": {
      "text/plain": [
       "'Python'"
      ]
     },
     "execution_count": 2,
     "metadata": {},
     "output_type": "execute_result"
    }
   ],
   "source": [
    "'Py' 'thon'"
   ]
  },
  {
   "cell_type": "code",
   "execution_count": 8,
   "metadata": {},
   "outputs": [
    {
     "data": {
      "text/plain": [
       "'Put several strings within parentheses to have them joined together.'"
      ]
     },
     "execution_count": 8,
     "metadata": {},
     "output_type": "execute_result"
    }
   ],
   "source": [
    "text = ('Put several strings within parentheses ' 'to have them joined together.')\n",
    "text"
   ]
  },
  {
   "cell_type": "code",
   "execution_count": 7,
   "metadata": {},
   "outputs": [
    {
     "data": {
      "text/plain": [
       "str"
      ]
     },
     "execution_count": 7,
     "metadata": {},
     "output_type": "execute_result"
    }
   ],
   "source": [
    "type(text)"
   ]
  },
  {
   "cell_type": "markdown",
   "metadata": {},
   "source": [
    "Python strings cannot be changed — they are immutable."
   ]
  },
  {
   "cell_type": "markdown",
   "metadata": {},
   "source": [
    "### String method"
   ]
  },
  {
   "cell_type": "code",
   "execution_count": null,
   "metadata": {},
   "outputs": [],
   "source": [
    "# str.strip([char])\n",
    "'''The OUTERMOST leading and trailing chars argument values are stripped from the string. \n",
    "Unil reaching a string character that is not contained i the set of char, [char].\n",
    "The chars argument is not a prefix or suffix; rather, every single character \n",
    "in it is stripped.\n",
    "'''\n",
    "# example:"
   ]
  },
  {
   "cell_type": "code",
   "execution_count": 1,
   "metadata": {},
   "outputs": [
    {
     "data": {
      "text/plain": [
       "'spacious'"
      ]
     },
     "execution_count": 1,
     "metadata": {},
     "output_type": "execute_result"
    }
   ],
   "source": [
    "'     spacious     '.strip()"
   ]
  },
  {
   "cell_type": "code",
   "execution_count": 2,
   "metadata": {},
   "outputs": [
    {
     "data": {
      "text/plain": [
       "'.example.'"
      ]
     },
     "execution_count": 2,
     "metadata": {},
     "output_type": "execute_result"
    }
   ],
   "source": [
    "'www.example.com'.strip('comwa') # pay attention here, a is not stripped, since it is in the inner side."
   ]
  },
  {
   "cell_type": "markdown",
   "metadata": {},
   "source": [
    "## Lists"
   ]
  },
  {
   "cell_type": "markdown",
   "metadata": {},
   "source": [
    "Lists are mutable, able to contain different types of item."
   ]
  },
  {
   "cell_type": "markdown",
   "metadata": {},
   "source": [
    "Nest lists:"
   ]
  },
  {
   "cell_type": "code",
   "execution_count": 9,
   "metadata": {},
   "outputs": [
    {
     "data": {
      "text/plain": [
       "['a', 'b', 'c']"
      ]
     },
     "execution_count": 9,
     "metadata": {},
     "output_type": "execute_result"
    }
   ],
   "source": [
    "a = ['a', 'b', 'c']\n",
    "b = [1, 2, 3]\n",
    "x = [a, b]\n",
    "x[0]"
   ]
  },
  {
   "cell_type": "code",
   "execution_count": 10,
   "metadata": {},
   "outputs": [
    {
     "data": {
      "text/plain": [
       "'b'"
      ]
     },
     "execution_count": 10,
     "metadata": {},
     "output_type": "execute_result"
    }
   ],
   "source": [
    "x[0][1]"
   ]
  },
  {
   "cell_type": "markdown",
   "metadata": {},
   "source": [
    "生成连续数列："
   ]
  },
  {
   "cell_type": "code",
   "execution_count": 23,
   "metadata": {},
   "outputs": [
    {
     "data": {
      "text/plain": [
       "[3, 4, 5, 6, 7, 8]"
      ]
     },
     "execution_count": 23,
     "metadata": {},
     "output_type": "execute_result"
    }
   ],
   "source": [
    "list(range(3, 9))"
   ]
  },
  {
   "cell_type": "markdown",
   "metadata": {},
   "source": [
    "## Control Flow Tools"
   ]
  },
  {
   "cell_type": "markdown",
   "metadata": {},
   "source": [
    "### if-elif-elif-else"
   ]
  },
  {
   "cell_type": "markdown",
   "metadata": {},
   "source": [
    "### For Loops"
   ]
  },
  {
   "cell_type": "markdown",
   "metadata": {},
   "source": [
    "* Python’s for statement iterates over the items of any sequence (a list or a string), in the order that they appear in the sequence."
   ]
  },
  {
   "cell_type": "code",
   "execution_count": 14,
   "metadata": {},
   "outputs": [
    {
     "name": "stdout",
     "output_type": "stream",
     "text": [
      "cat 3\n",
      "window 6\n",
      "defenestrate 12\n"
     ]
    }
   ],
   "source": [
    "words = ['cat', 'window', 'defenestrate']\n",
    "for w in words:\n",
    "    print(w, len(w))"
   ]
  },
  {
   "cell_type": "markdown",
   "metadata": {},
   "source": [
    "* If you need to modify the sequence you are iterating over while inside the loop (for example to duplicate selected items), it is recommended that you first make a copy. Iterating over a sequence does not implicitly make a copy. The slice notation makes this especially convenient:"
   ]
  },
  {
   "cell_type": "code",
   "execution_count": 15,
   "metadata": {},
   "outputs": [
    {
     "data": {
      "text/plain": [
       "['defenestrate', 'cat', 'window', 'defenestrate']"
      ]
     },
     "execution_count": 15,
     "metadata": {},
     "output_type": "execute_result"
    }
   ],
   "source": [
    "for w in words[:]:\n",
    "    if len(w) > 6:\n",
    "        words.insert(0, w) # insert w to the 0 position in words\n",
    "words"
   ]
  },
  {
   "cell_type": "markdown",
   "metadata": {},
   "source": [
    "range() function "
   ]
  },
  {
   "cell_type": "code",
   "execution_count": 18,
   "metadata": {},
   "outputs": [
    {
     "name": "stdout",
     "output_type": "stream",
     "text": [
      "0, 1, 2, 3, 4, "
     ]
    }
   ],
   "source": [
    "for i in range(5):\n",
    "    print(i, end=', ')"
   ]
  },
  {
   "cell_type": "code",
   "execution_count": 20,
   "metadata": {},
   "outputs": [
    {
     "name": "stdout",
     "output_type": "stream",
     "text": [
      "3, 4, "
     ]
    }
   ],
   "source": [
    "for i in range(3, 5):\n",
    "    print(i, end=', ')"
   ]
  },
  {
   "cell_type": "code",
   "execution_count": 22,
   "metadata": {},
   "outputs": [
    {
     "name": "stdout",
     "output_type": "stream",
     "text": [
      "1, 4, 7, 10, 13, 16, 19, "
     ]
    }
   ],
   "source": [
    "for i in range(1, 20, 3):\n",
    "    print(i, end=', ')"
   ]
  },
  {
   "cell_type": "markdown",
   "metadata": {},
   "source": [
    "### break and continue Statements, and else Clauses on Loops"
   ]
  },
  {
   "cell_type": "markdown",
   "metadata": {},
   "source": [
    "1. break, breaks out of the innermost enclosing *for* or *while* loop"
   ]
  },
  {
   "cell_type": "markdown",
   "metadata": {},
   "source": [
    "2. else clause: is executed when the loop terminates through exhaustion of the list (with *for* loop) or when the condition becomes false (with *while* loop), but not when the loop is terminated by a *break* statement，下面举一个找质数（prime number）的例子："
   ]
  },
  {
   "cell_type": "code",
   "execution_count": 33,
   "metadata": {},
   "outputs": [
    {
     "name": "stdout",
     "output_type": "stream",
     "text": [
      "2 is a prime number.\n",
      "3 is a prime number.\n",
      "4 equals 2 * 2\n",
      "5 is a prime number.\n",
      "6 equals 2 * 3\n",
      "7 is a prime number.\n",
      "8 equals 2 * 4\n",
      "9 equals 3 * 3\n"
     ]
    },
    {
     "data": {
      "text/plain": [
       "'In the above example, line3 and line7 are a pair \\n(if for loop start from line3 finishes without a break,\\nthe else clause will be executed).'"
      ]
     },
     "execution_count": 33,
     "metadata": {},
     "output_type": "execute_result"
    }
   ],
   "source": [
    "m = 10 # searching for all the prime numbers from zero to m.\n",
    "for n in range(2, m):\n",
    "    for x in range(2, n):\n",
    "        if n % x == 0:\n",
    "            print(n, 'equals', x, '*', n//x)\n",
    "            break\n",
    "    else:\n",
    "        # loop fell through without finding a factor\n",
    "        print(n, 'is a prime number.')\n",
    "'''\\\n",
    "In the above example, line3 and line7 are a pair \n",
    "(if for loop start from line3 finishes without a break,\n",
    "the else clause will be executed).\\\n",
    "'''"
   ]
  },
  {
   "cell_type": "markdown",
   "metadata": {},
   "source": [
    "3. The *continue* statement, contnues with the next iteration of the loop."
   ]
  },
  {
   "cell_type": "code",
   "execution_count": 35,
   "metadata": {},
   "outputs": [
    {
     "name": "stdout",
     "output_type": "stream",
     "text": [
      "Found an even number 2\n",
      "Found an odd number 3\n",
      "Found an even number 4\n",
      "Found an odd number 5\n",
      "Found an even number 6\n",
      "Found an odd number 7\n",
      "Found an even number 8\n",
      "Found an odd number 9\n"
     ]
    }
   ],
   "source": [
    "m = 10\n",
    "for num in range(2, m):\n",
    "    if num % 2 == 0:\n",
    "        print(\"Found an even number\", num)\n",
    "        continue\n",
    "    print(\"Found an odd number\", num)\n",
    "              "
   ]
  },
  {
   "cell_type": "markdown",
   "metadata": {},
   "source": [
    "### pass Statements"
   ]
  },
  {
   "cell_type": "markdown",
   "metadata": {},
   "source": [
    "pass does nothing. It can be used when a statement is required syntactically but the program requires no action:"
   ]
  },
  {
   "cell_type": "code",
   "execution_count": null,
   "metadata": {},
   "outputs": [],
   "source": [
    "while True:\n",
    "    pass # Busy-wait for keyboard interrupt"
   ]
  },
  {
   "cell_type": "code",
   "execution_count": null,
   "metadata": {},
   "outputs": [],
   "source": [
    "class MyEnptyClass:\n",
    "    pass"
   ]
  },
  {
   "cell_type": "code",
   "execution_count": null,
   "metadata": {},
   "outputs": [],
   "source": [
    "def initlog(*args):\n",
    "    pass # Remember to implement this!"
   ]
  },
  {
   "cell_type": "markdown",
   "metadata": {},
   "source": [
    "### Looping Techniques"
   ]
  },
  {
   "cell_type": "markdown",
   "metadata": {},
   "source": [
    "1. When looping through dictionaries, the key and corresponding value can be retrieved at the same time using the items() method."
   ]
  },
  {
   "cell_type": "code",
   "execution_count": 26,
   "metadata": {},
   "outputs": [
    {
     "name": "stdout",
     "output_type": "stream",
     "text": [
      "gallahad: the pure\n",
      "robin: the brave\n"
     ]
    }
   ],
   "source": [
    "knights = {'gallahad': 'the pure', 'robin': 'the brave'}\n",
    "for k, v in knights.items():\n",
    "    print(f'{k}: {v}')"
   ]
  },
  {
   "cell_type": "code",
   "execution_count": null,
   "metadata": {},
   "outputs": [],
   "source": []
  }
 ],
 "metadata": {
  "kernelspec": {
   "display_name": "Python 3",
   "language": "python",
   "name": "python3"
  },
  "language_info": {
   "codemirror_mode": {
    "name": "ipython",
    "version": 3
   },
   "file_extension": ".py",
   "mimetype": "text/x-python",
   "name": "python",
   "nbconvert_exporter": "python",
   "pygments_lexer": "ipython3",
   "version": "3.6.5"
  }
 },
 "nbformat": 4,
 "nbformat_minor": 2
}
