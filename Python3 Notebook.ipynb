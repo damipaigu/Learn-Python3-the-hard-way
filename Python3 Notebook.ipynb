{
 "cells": [
  {
   "cell_type": "markdown",
   "metadata": {},
   "source": [
    "# Python Built-in functions playground"
   ]
  },
  {
   "cell_type": "code",
   "execution_count": 14,
   "metadata": {
    "scrolled": true
   },
   "outputs": [
    {
     "name": "stdout",
     "output_type": "stream",
     "text": [
      "My list is: \n",
      " ['o', 1, 2, 'Text', True, 'abc'], \n",
      " the result of all() is: True\n",
      "***************\n",
      "My list is updated as: \n",
      " ['o', 1, 2, 'Text', True, 'abc', False], \n",
      " the result of all() is now: False\n"
     ]
    }
   ],
   "source": [
    "# all(iterable) return True if all elements of iterable are True\n",
    "my_list = ['o', 1, 2, 'Text', True, 'abc'] # list elements can be different types\n",
    "print(f\"My list is: \\n {my_list}, \\n the result of all() is: {all(my_list)}\")\n",
    "print('*' * 15)\n",
    "my_list.append(False)\n",
    "print(f\"My list is updated as: \\n {my_list}, \\n the result of all() is now: {all(my_list)}\")"
   ]
  },
  {
   "cell_type": "code",
   "execution_count": null,
   "metadata": {},
   "outputs": [],
   "source": [
    "# any() similar to all()\n",
    "print(any()"
   ]
  },
  {
   "cell_type": "code",
   "execution_count": null,
   "metadata": {},
   "outputs": [],
   "source": []
  }
 ],
 "metadata": {
  "kernelspec": {
   "display_name": "Python 3",
   "language": "python",
   "name": "python3"
  },
  "language_info": {
   "codemirror_mode": {
    "name": "ipython",
    "version": 3
   },
   "file_extension": ".py",
   "mimetype": "text/x-python",
   "name": "python",
   "nbconvert_exporter": "python",
   "pygments_lexer": "ipython3",
   "version": "3.6.5"
  }
 },
 "nbformat": 4,
 "nbformat_minor": 2
}
